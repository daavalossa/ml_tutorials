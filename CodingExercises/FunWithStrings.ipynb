{
  "cells": [
    {
      "cell_type": "markdown",
      "metadata": {
        "id": "view-in-github"
      },
      "source": [
        "<a href=\"https://colab.research.google.com/github/patofw/imf_master/blob/master/Google_Colab/FunWithStrings.ipynb\" target=\"_parent\"><img src=\"https://colab.research.google.com/assets/colab-badge.svg\" alt=\"Open In Colab\"/></a>"
      ]
    },
    {
      "cell_type": "markdown",
      "metadata": {
        "id": "ieLEDdDIuclS"
      },
      "source": [
        "\n",
        "\n",
        "\n",
        "# Manipulación de cadenas de texto (strings)"
      ]
    },
    {
      "cell_type": "markdown",
      "metadata": {
        "id": "vsECEP6puclU"
      },
      "source": [
        "El tratamiento de datos de texto es uno de las áreas con mayor desarrollo en la ciencia de datos, sobre todo con el 'boom' que ha tenido el procesamiento del lenguaje natural (NLP) en diferentes áreas de la inteligencia artificial. \n",
        "Python, en su base tiene varias herramientas que nos pueden ayudar a tratar cadenas de texto. En este tutorial veremos las más comunes, pero hay mucnas más en la documentación oficial.   <a href=\"https://docs.python.org/3.2/library/stdtypes.html#string-methods\">Python</a>. "
      ]
    },
    {
      "cell_type": "markdown",
      "metadata": {
        "id": "WVakpsKUuclW"
      },
      "source": [
        "## Formato de las cadenas"
      ]
    },
    {
      "cell_type": "markdown",
      "metadata": {
        "id": "9pWhy_tYuclY"
      },
      "source": [
        "Antes de empezar con la limpieza de cadenas de texto, quiero comentarles que Python permite añadir variables a tus cadenas de texto de múltiples formas. Esto es especialmente útil cuando queremos que nuestros prints se actualicen con una variable previamente declarada. Hay varias formas de haecerlo. Por ejemplo:"
      ]
    },
    {
      "cell_type": "code",
      "execution_count": 3,
      "metadata": {
        "colab": {
          "base_uri": "https://localhost:8080/",
          "height": 35
        },
        "id": "qzI4aZPXucla",
        "outputId": "538fd902-3a1f-49aa-a972-4e86c8074fc7"
      },
      "outputs": [
        {
          "name": "stdout",
          "output_type": "stream",
          "text": [
            "Hola mi nombre es Patricio y vivo en España\n"
          ]
        }
      ],
      "source": [
        "# Esta es la opción más \"pytónica\" y elegante\n",
        "var1 = \"Patricio\"\n",
        "var2 = \"España\"\n",
        "print(f\"Hola mi nombre es {var1} y vivo en {var2}\") \n"
      ]
    },
    {
      "cell_type": "code",
      "execution_count": 4,
      "metadata": {
        "colab": {
          "base_uri": "https://localhost:8080/",
          "height": 35
        },
        "id": "yvc8rrmeuclj",
        "outputId": "dc03fc9a-a9a8-4bdc-8d66-8d2cf2ca8657"
      },
      "outputs": [
        {
          "name": "stdout",
          "output_type": "stream",
          "text": [
            "Hola mi nombre es Patricio y vivo en España\n"
          ]
        }
      ],
      "source": [
        "# utilizando comas para separar \n",
        "print(\"Hola mi nombre es\", var1, \"y vivo en\", var2)"
      ]
    },
    {
      "cell_type": "code",
      "execution_count": 5,
      "metadata": {
        "colab": {
          "base_uri": "https://localhost:8080/",
          "height": 35
        },
        "id": "XUeith6Buclr",
        "outputId": "1f2c73da-ac55-4327-f4a8-6502fd493390"
      },
      "outputs": [
        {
          "name": "stdout",
          "output_type": "stream",
          "text": [
            "Hola mi nombre es Patricio y vivo en España\n"
          ]
        }
      ],
      "source": [
        "print(\"Hola mi nombre es {} y vivo en {}\".format(var1, var2))"
      ]
    },
    {
      "cell_type": "markdown",
      "metadata": {
        "id": "fHYSBckNucly"
      },
      "source": [
        "# Tratamiento de Texto\n",
        "\n",
        "En muchos casos vamos a recibir el texto en una lista de elementos. Python nos permite unir los elementos de texto con la función join."
      ]
    },
    {
      "cell_type": "code",
      "execution_count": 6,
      "metadata": {
        "colab": {
          "base_uri": "https://localhost:8080/",
          "height": 35
        },
        "id": "Xu20Cu09ucm0",
        "outputId": "1c539b8b-9216-4bd2-90de-86ab00b84911"
      },
      "outputs": [
        {
          "data": {
            "text/plain": [
              "'No quiero estar en una lista'"
            ]
          },
          "execution_count": 6,
          "metadata": {},
          "output_type": "execute_result"
        }
      ],
      "source": [
        "\" \".join([\"No\", \"quiero\", \"estar en una lista\"])"
      ]
    },
    {
      "cell_type": "code",
      "execution_count": 7,
      "metadata": {
        "colab": {
          "base_uri": "https://localhost:8080/",
          "height": 35
        },
        "id": "w6STGavJucnD",
        "outputId": "98dd2a6f-7b65-432c-b2a4-564d4e304286"
      },
      "outputs": [
        {
          "data": {
            "text/plain": [
              "'A--B--C'"
            ]
          },
          "execution_count": 7,
          "metadata": {},
          "output_type": "execute_result"
        }
      ],
      "source": [
        "# Podemos agregar cualquier separador entre las palabras en medio de las comillas del join\n",
        "\"--\".join([\"A\", \"B\", \"C\"])"
      ]
    },
    {
      "cell_type": "code",
      "execution_count": 8,
      "metadata": {
        "id": "OMs8X2glucnN",
        "outputId": "80593fe7-320c-4676-c4da-43d64fb9adfa"
      },
      "outputs": [
        {
          "ename": "TypeError",
          "evalue": "sequence item 0: expected str instance, int found",
          "output_type": "error",
          "traceback": [
            "\u001b[1;31m---------------------------------------------------------------------------\u001b[0m",
            "\u001b[1;31mTypeError\u001b[0m                                 Traceback (most recent call last)",
            "\u001b[1;32mc:\\Users\\davalos\\Dropbox\\PC\\Documents\\GitHub\\ml_tutorials\\CodingExercises\\FunWithStrings.ipynb Celda 12\u001b[0m in \u001b[0;36m<cell line: 2>\u001b[1;34m()\u001b[0m\n\u001b[0;32m      <a href='vscode-notebook-cell:/c%3A/Users/davalos/Dropbox/PC/Documents/GitHub/ml_tutorials/CodingExercises/FunWithStrings.ipynb#X14sZmlsZQ%3D%3D?line=0'>1</a>\u001b[0m \u001b[39m# Esto solo funcionará con cadénas de texto \u001b[39;00m\n\u001b[1;32m----> <a href='vscode-notebook-cell:/c%3A/Users/davalos/Dropbox/PC/Documents/GitHub/ml_tutorials/CodingExercises/FunWithStrings.ipynb#X14sZmlsZQ%3D%3D?line=1'>2</a>\u001b[0m \u001b[39m\"\u001b[39;49m\u001b[39m, \u001b[39;49m\u001b[39m\"\u001b[39;49m\u001b[39m.\u001b[39;49mjoin([\u001b[39m1\u001b[39;49m, \u001b[39m2\u001b[39;49m, \u001b[39m3\u001b[39;49m])\n",
            "\u001b[1;31mTypeError\u001b[0m: sequence item 0: expected str instance, int found"
          ]
        }
      ],
      "source": [
        "# Esto solo funcionará con cadénas de texto \n",
        "\", \".join([1, 2, 3])"
      ]
    },
    {
      "cell_type": "code",
      "execution_count": 9,
      "metadata": {
        "colab": {
          "base_uri": "https://localhost:8080/",
          "height": 35
        },
        "id": "E_mub3U6XQ0V",
        "outputId": "7704cc45-8e0d-4936-e936-5081b9bf4152"
      },
      "outputs": [
        {
          "data": {
            "text/plain": [
              "'1, 2, 3'"
            ]
          },
          "execution_count": 9,
          "metadata": {},
          "output_type": "execute_result"
        }
      ],
      "source": [
        "# Esto solo funcionará con cadénas de texto \n",
        "# Al poner comillas en cada número, las transformamos a texto\n",
        "\", \".join([\"1\", \"2\", \"3\"])"
      ]
    },
    {
      "cell_type": "markdown",
      "metadata": {
        "id": "PkkkfvbYucpp"
      },
      "source": [
        "Hay veces que el texto vendrá con demasiados espacios en blanco. Podemos eliminarlos fácilmente con el método strip()"
      ]
    },
    {
      "cell_type": "code",
      "execution_count": null,
      "metadata": {
        "colab": {
          "base_uri": "https://localhost:8080/",
          "height": 35
        },
        "id": "WAUM9hq3ucpq",
        "outputId": "8d20214e-ca2f-4a43-bc5b-046866d777d3"
      },
      "outputs": [
        {
          "data": {
            "text/plain": [
              "'This is some text.......'"
            ]
          },
          "execution_count": 15,
          "metadata": {
            "tags": []
          },
          "output_type": "execute_result"
        }
      ],
      "source": [
        "# Eliminamos todos los espacios de la izquierda y derecha del texto\n",
        "s = \"     This is some text.......      \"\n",
        "s.strip()"
      ]
    },
    {
      "cell_type": "code",
      "execution_count": null,
      "metadata": {
        "colab": {
          "base_uri": "https://localhost:8080/",
          "height": 35
        },
        "id": "HFF6syj9ucpw",
        "outputId": "161fa6d5-5fc6-48a1-d6e3-6bf2f171c1a3"
      },
      "outputs": [
        {
          "data": {
            "text/plain": [
              "'This is some text.......      '"
            ]
          },
          "execution_count": 16,
          "metadata": {
            "tags": []
          },
          "output_type": "execute_result"
        }
      ],
      "source": [
        "# Solo los de la izquierda\n",
        "s.lstrip()"
      ]
    },
    {
      "cell_type": "code",
      "execution_count": null,
      "metadata": {
        "colab": {
          "base_uri": "https://localhost:8080/",
          "height": 35
        },
        "id": "5gfZNMbWucp4",
        "outputId": "d21d38c2-034d-47d3-e776-dad547f4288f"
      },
      "outputs": [
        {
          "data": {
            "text/plain": [
              "'     This is some text.......'"
            ]
          },
          "execution_count": 17,
          "metadata": {
            "tags": []
          },
          "output_type": "execute_result"
        }
      ],
      "source": [
        "# Solo derecha\n",
        "s.rstrip()"
      ]
    },
    {
      "cell_type": "code",
      "execution_count": null,
      "metadata": {
        "colab": {
          "base_uri": "https://localhost:8080/",
          "height": 35
        },
        "id": "TtsHKXb-ucp-",
        "outputId": "d3baf7a6-5e65-42dc-cb4e-74879fac772a"
      },
      "outputs": [
        {
          "data": {
            "text/plain": [
              "'     This is some text'"
            ]
          },
          "execution_count": 18,
          "metadata": {
            "tags": []
          },
          "output_type": "execute_result"
        }
      ],
      "source": [
        "# También podemos eliminar caracteres \n",
        "# Quitemos los puntos de la derecha y los espacios \n",
        "s.rstrip(\" .\")"
      ]
    },
    {
      "cell_type": "code",
      "execution_count": null,
      "metadata": {
        "colab": {
          "base_uri": "https://localhost:8080/",
          "height": 35
        },
        "id": "ZY87Hl-CucqJ",
        "outputId": "3c5d3b4f-db34-4eca-dbf2-9a922ef08767"
      },
      "outputs": [
        {
          "data": {
            "text/plain": [
              "'his is some tex'"
            ]
          },
          "execution_count": 19,
          "metadata": {
            "tags": []
          },
          "output_type": "execute_result"
        }
      ],
      "source": [
        "# Strip solo funciona en el inicio y el final de una cadena. \n",
        "# No reemplaza lo que está en el medio \n",
        "s.strip(\" Tt.\")"
      ]
    },
    {
      "cell_type": "markdown",
      "metadata": {
        "id": "YzFVapv8ucqg"
      },
      "source": [
        "## Manipulando las mayúsculas y minúsculas del texto. "
      ]
    },
    {
      "cell_type": "code",
      "execution_count": null,
      "metadata": {
        "colab": {
          "base_uri": "https://localhost:8080/",
          "height": 35
        },
        "id": "zxAVChrHucqh",
        "outputId": "dae5d42d-0fec-455b-b18d-cc1604811e4e"
      },
      "outputs": [
        {
          "data": {
            "text/plain": [
              "'Soy un título.'"
            ]
          },
          "execution_count": 20,
          "metadata": {
            "tags": []
          },
          "output_type": "execute_result"
        }
      ],
      "source": [
        "# Ponemos mayúscula a la primera letra \n",
        "\"soy una oración.\".capitalize()"
      ]
    },
    {
      "cell_type": "code",
      "execution_count": null,
      "metadata": {
        "colab": {
          "base_uri": "https://localhost:8080/",
          "height": 35
        },
        "id": "ZFTCrYnKucqm",
        "outputId": "0e81f2b4-efa2-4411-ee36-fcbe5075ea27"
      },
      "outputs": [
        {
          "data": {
            "text/plain": [
              "'no quiero parecer que estoy gritando!!'"
            ]
          },
          "execution_count": 21,
          "metadata": {
            "tags": []
          },
          "output_type": "execute_result"
        }
      ],
      "source": [
        "# Todo a minúsculas \n",
        "\"NO QUIERO PARECER QUE ESTOY GRITANDO!!\".lower()"
      ]
    },
    {
      "cell_type": "code",
      "execution_count": null,
      "metadata": {
        "colab": {
          "base_uri": "https://localhost:8080/",
          "height": 35
        },
        "id": "mxmSf5vIucqq",
        "outputId": "c5d30f53-c5c7-4f2a-864c-912635687484"
      },
      "outputs": [
        {
          "data": {
            "text/plain": [
              "'THIS is A tEst!'"
            ]
          },
          "execution_count": 22,
          "metadata": {
            "tags": []
          },
          "output_type": "execute_result"
        }
      ],
      "source": [
        "# 'Swap', mayúsculas pasan a minúsculas y viceversa\n",
        "\"this IS a TeST!\".swapcase()"
      ]
    },
    {
      "cell_type": "code",
      "execution_count": null,
      "metadata": {
        "colab": {
          "base_uri": "https://localhost:8080/",
          "height": 35
        },
        "id": "crqINEgtucqu",
        "outputId": "dfea255c-349e-4036-891d-0bfb5bf5505c"
      },
      "outputs": [
        {
          "data": {
            "text/plain": [
              "'Soy Un Título Y Quiero Verme Como Tal'"
            ]
          },
          "execution_count": 23,
          "metadata": {
            "tags": []
          },
          "output_type": "execute_result"
        }
      ],
      "source": [
        "# Todas las palabras con la primera mayúscula\n",
        "\"soy un título y quiero verme como tal\".title()"
      ]
    },
    {
      "cell_type": "markdown",
      "metadata": {
        "id": "Ngp7yK9mucqy"
      },
      "source": [
        "### .upper(): return a copy of the string with all characters in uppercase."
      ]
    },
    {
      "cell_type": "code",
      "execution_count": null,
      "metadata": {
        "colab": {
          "base_uri": "https://localhost:8080/",
          "height": 35
        },
        "id": "35YfSt7jucqy",
        "outputId": "b9f6f015-eae6-47d8-9494-1365c29b3385"
      },
      "outputs": [
        {
          "data": {
            "text/plain": [
              "'YO SI QUIERO PARECER COMO SI ESTUVIERA GRITANDO!'"
            ]
          },
          "execution_count": 24,
          "metadata": {
            "tags": []
          },
          "output_type": "execute_result"
        }
      ],
      "source": [
        "# Todo a mayúscula\n",
        "\"yo si quiero parecer como si estuviera gritando!\".upper()"
      ]
    },
    {
      "cell_type": "markdown",
      "metadata": {
        "id": "GAfL0dI4ucq2"
      },
      "source": [
        "# Búsqueda y partición en las cadenas "
      ]
    },
    {
      "cell_type": "code",
      "execution_count": null,
      "metadata": {
        "colab": {
          "base_uri": "https://localhost:8080/",
          "height": 35
        },
        "id": "LP6exrsGucq3",
        "outputId": "c7187f55-d109-4b9c-8a27-f92fafd2c0e3"
      },
      "outputs": [
        {
          "data": {
            "text/plain": [
              "3"
            ]
          },
          "execution_count": 1,
          "metadata": {
            "tags": []
          },
          "output_type": "execute_result"
        }
      ],
      "source": [
        "# Contar cuantas veces hay la aparición de una cadena\n",
        "\"This is a test for counting 'is' in a string.\".count(\"is\")"
      ]
    },
    {
      "cell_type": "code",
      "execution_count": null,
      "metadata": {
        "colab": {
          "base_uri": "https://localhost:8080/",
          "height": 35
        },
        "id": "sjezjdgoucq7",
        "outputId": "a5a97ff4-eb45-4c59-e5e6-bb8a7bcbc0b9"
      },
      "outputs": [
        {
          "data": {
            "text/plain": [
              "2"
            ]
          },
          "execution_count": 11,
          "metadata": {
            "tags": []
          },
          "output_type": "execute_result"
        }
      ],
      "source": [
        "# podemos poner un rango (en este caso de la pos 0 a la pos 10 del texto)\n",
        "\"This is a test for counting 'is' in a string.\".count(\"is\", 0, 10)"
      ]
    },
    {
      "cell_type": "code",
      "execution_count": null,
      "metadata": {
        "colab": {
          "base_uri": "https://localhost:8080/",
          "height": 35
        },
        "id": "k9ZqfYLEucq_",
        "outputId": "08e119fe-d6f9-4c36-ee9e-2279168180db"
      },
      "outputs": [
        {
          "data": {
            "text/plain": [
              "13"
            ]
          },
          "execution_count": 12,
          "metadata": {
            "tags": []
          },
          "output_type": "execute_result"
        }
      ],
      "source": [
        "# Devolver la posición donde encontramos una subcadena \n",
        "\"Where is the dog?\".find(\"dog\")"
      ]
    },
    {
      "cell_type": "code",
      "execution_count": null,
      "metadata": {
        "colab": {
          "base_uri": "https://localhost:8080/",
          "height": 35
        },
        "id": "y5aOb3BMucrC",
        "outputId": "d9d3ded6-c302-4bd9-d41c-ea460f7efea1"
      },
      "outputs": [
        {
          "data": {
            "text/plain": [
              "-1"
            ]
          },
          "execution_count": 13,
          "metadata": {
            "tags": []
          },
          "output_type": "execute_result"
        }
      ],
      "source": [
        "# Si no lo encuentra devuelve -1\n",
        "\"I can only find a cat.\".find(\"dog\")"
      ]
    },
    {
      "cell_type": "code",
      "execution_count": null,
      "metadata": {
        "colab": {
          "base_uri": "https://localhost:8080/",
          "height": 35
        },
        "id": "rD3l4oyAucrF",
        "outputId": "766bbf8a-4ea6-4653-beb1-d24e266e5051"
      },
      "outputs": [
        {
          "data": {
            "text/plain": [
              "9"
            ]
          },
          "execution_count": 14,
          "metadata": {
            "tags": []
          },
          "output_type": "execute_result"
        }
      ],
      "source": [
        "# Qué pasa si tenemos dos veces la subcadena? \n",
        "# Devuelve la primera posición \n",
        "\"Is a bulldog a dog?\".find(\"dog\")"
      ]
    },
    {
      "cell_type": "code",
      "execution_count": null,
      "metadata": {
        "colab": {
          "base_uri": "https://localhost:8080/",
          "height": 35
        },
        "id": "sK4LG4u7ucrK",
        "outputId": "833a72e9-1186-4270-dfd4-38c8773987dd"
      },
      "outputs": [
        {
          "data": {
            "text/plain": [
              "15"
            ]
          },
          "execution_count": 16,
          "metadata": {
            "tags": []
          },
          "output_type": "execute_result"
        }
      ],
      "source": [
        "# Si queremos sacar la última posición utilizamos rfind\n",
        "\"Is a bulldog a dog?\".rfind(\"dog\")"
      ]
    },
    {
      "cell_type": "code",
      "execution_count": null,
      "metadata": {
        "colab": {
          "base_uri": "https://localhost:8080/",
          "height": 35
        },
        "id": "d9zn8LPkucrh",
        "outputId": "89154796-54b1-44a3-ef1a-470f95ad49ae"
      },
      "outputs": [
        {
          "data": {
            "text/plain": [
              "('Does this string ', 'c', \"ontain a 'c'?\")"
            ]
          },
          "execution_count": 22,
          "metadata": {
            "tags": []
          },
          "output_type": "execute_result"
        }
      ],
      "source": [
        "# Partition divide el texto en una tupla de 3 partes, utilizando como referencia una subcadena\n",
        "# Dividimos el texto por la subcadena \"c\" en una tupla de 3 elementos\n",
        "# Se toma la primera aparición de la cadena como punto de partición\n",
        "s = \"Does this string contain a 'c'?\"\n",
        "s.partition(\"c\")"
      ]
    },
    {
      "cell_type": "code",
      "execution_count": null,
      "metadata": {
        "colab": {
          "base_uri": "https://localhost:8080/",
          "height": 35
        },
        "id": "Q3lXvKFeucrl",
        "outputId": "7872844c-75b1-4284-8a7c-e6c710a3175c"
      },
      "outputs": [
        {
          "data": {
            "text/plain": [
              "('Does this ', 'string', \" contain a 'c'?\")"
            ]
          },
          "execution_count": 18,
          "metadata": {
            "tags": []
          },
          "output_type": "execute_result"
        }
      ],
      "source": [
        "# Otro ejemplo\n",
        "s.partition(\"string\")"
      ]
    },
    {
      "cell_type": "code",
      "execution_count": null,
      "metadata": {
        "colab": {
          "base_uri": "https://localhost:8080/",
          "height": 35
        },
        "id": "UE3ECYUAucrp",
        "outputId": "463ce0d8-c200-4c22-d64a-3ec64c1ecc83"
      },
      "outputs": [
        {
          "data": {
            "text/plain": [
              "(\"Does this string contain a 'c'?\", '', '')"
            ]
          },
          "execution_count": 23,
          "metadata": {
            "tags": []
          },
          "output_type": "execute_result"
        }
      ],
      "source": [
        "# Si no encuentra la subcadena, igual realiza la partición\n",
        "s.partition(\"elementoNoExistente\")"
      ]
    },
    {
      "cell_type": "markdown",
      "metadata": {
        "id": "lYggHhS5ucrv"
      },
      "source": [
        "# Reemplazar dentro de una cadena de texto"
      ]
    },
    {
      "cell_type": "code",
      "execution_count": null,
      "metadata": {
        "colab": {
          "base_uri": "https://localhost:8080/",
          "height": 35
        },
        "id": "4Ff_BK4ducrw",
        "outputId": "de05c921-1c4a-4473-d19f-1751c636ca57"
      },
      "outputs": [
        {
          "name": "stdout",
          "output_type": "stream",
          "text": [
            "Esto no es una pregunta!\n"
          ]
        }
      ],
      "source": [
        "# Utilizamos reemplazar, donde el primer elemento es la subcadena que \n",
        "# queremos reemplazar, y el segundo es la subcadena que usaremos en su lugar\n",
        "print(\"Esto no es una pregunta?\".replace(\"?\", \"!\"))"
      ]
    },
    {
      "cell_type": "code",
      "execution_count": null,
      "metadata": {
        "colab": {
          "base_uri": "https://localhost:8080/",
          "height": 52
        },
        "id": "-ueQ_9d0ucr4",
        "outputId": "036c5db7-cbc2-46ec-bbd0-71455261ce75"
      },
      "outputs": [
        {
          "name": "stdout",
          "output_type": "stream",
          "text": [
            "One, four, three, four\n",
            "One, four, three, two\n"
          ]
        }
      ],
      "source": [
        "# Podemos también especificar el número de veces que queremos reemplazar \n",
        "# el texto. \n",
        "s = \"One, two, three, two\"\n",
        "print(s.replace(\"two\", \"four\"))\n",
        "print(s.replace(\"two\", \"four\", 1))"
      ]
    },
    {
      "cell_type": "markdown",
      "metadata": {
        "id": "C-zfY5OCucr_"
      },
      "source": [
        "# Split (Separa el texto en una lista)"
      ]
    },
    {
      "cell_type": "code",
      "execution_count": null,
      "metadata": {
        "colab": {
          "base_uri": "https://localhost:8080/",
          "height": 35
        },
        "id": "9Q9zulERucsA",
        "outputId": "b404fbe9-0847-4e06-babe-49e2ecfb1e42"
      },
      "outputs": [
        {
          "name": "stdout",
          "output_type": "stream",
          "text": [
            "['La', 'película', 'split', 'me', 'encanta']\n"
          ]
        }
      ],
      "source": [
        "s = \"La película split me encanta\"\n",
        "# Si ejecutamos split sin argumento, separa las cadenas separadas por espacios\n",
        "words = s.split()\n",
        "print(words)\n"
      ]
    },
    {
      "cell_type": "code",
      "execution_count": null,
      "metadata": {
        "colab": {
          "base_uri": "https://localhost:8080/",
          "height": 35
        },
        "id": "3PUmF3ukMtW7",
        "outputId": "65559d90-ae05-41d5-a020-376891852880"
      },
      "outputs": [
        {
          "name": "stdout",
          "output_type": "stream",
          "text": [
            "['La película split', 'me encanta']\n"
          ]
        }
      ],
      "source": [
        "# Podemos también pasarle como argumento, la subcadena que queremos que considere\n",
        "# para realizar el corte\n",
        "s = \"La película split | me encanta\"\n",
        "lista = s.split(\" | \")\n",
        "print(lista)"
      ]
    },
    {
      "cell_type": "code",
      "execution_count": null,
      "metadata": {
        "colab": {
          "base_uri": "https://localhost:8080/",
          "height": 35
        },
        "id": "BOEPx7rfucsH",
        "outputId": "f210fce6-6683-4c84-a452-04e8e38a9861"
      },
      "outputs": [
        {
          "data": {
            "text/plain": [
              "['1', '2', '3', '4', '5']"
            ]
          },
          "execution_count": 34,
          "metadata": {
            "tags": []
          },
          "output_type": "execute_result"
        }
      ],
      "source": [
        "# Otro ejemplo\n",
        "\"1 --- 2 --- 3 --- 4 --- 5\".split(\" --- \")"
      ]
    },
    {
      "cell_type": "code",
      "execution_count": null,
      "metadata": {
        "colab": {
          "base_uri": "https://localhost:8080/",
          "height": 35
        },
        "id": "5jepdVQ2ucsO",
        "outputId": "4b5d9311-dff2-44a1-9197-947d16f61752"
      },
      "outputs": [
        {
          "data": {
            "text/plain": [
              "['First line', 'Second line', '', 'Fourth line']"
            ]
          },
          "execution_count": 35,
          "metadata": {
            "tags": []
          },
          "output_type": "execute_result"
        }
      ],
      "source": [
        "# Podemos hacer algo similar con la función split lines, \n",
        "# Que separará texto por líneas \n",
        "text= '''First line\n",
        "Second line\n",
        "\n",
        "Fourth line'''\n",
        "text.splitlines()"
      ]
    },
    {
      "cell_type": "markdown",
      "metadata": {
        "id": "osZHQZVIucsb"
      },
      "source": [
        "# Revisando propiedes de las cadenas de texto"
      ]
    },
    {
      "cell_type": "code",
      "execution_count": null,
      "metadata": {
        "colab": {
          "base_uri": "https://localhost:8080/",
          "height": 35
        },
        "id": "BLb9VKwBucsd",
        "outputId": "c788b720-d52a-4c13-8c41-75d3ee2cd990"
      },
      "outputs": [
        {
          "data": {
            "text/plain": [
              "True"
            ]
          },
          "execution_count": 37,
          "metadata": {
            "tags": []
          },
          "output_type": "execute_result"
        }
      ],
      "source": [
        "# Devuelve True or False si cumple la condición. Por ejemplo\n",
        "\"Python\".endswith(\"on\")"
      ]
    },
    {
      "cell_type": "code",
      "execution_count": null,
      "metadata": {
        "colab": {
          "base_uri": "https://localhost:8080/",
          "height": 35
        },
        "id": "Lty5h130ucst",
        "outputId": "74104a89-71f1-4b85-8889-d6f7c3c4c176"
      },
      "outputs": [
        {
          "data": {
            "text/plain": [
              "False"
            ]
          },
          "execution_count": 39,
          "metadata": {
            "tags": []
          },
          "output_type": "execute_result"
        }
      ],
      "source": [
        "# Recuerda que las cadenas consideran si el texto está en mayúscula o minuscula\n",
        "\"Python\".startswith(\"py\")"
      ]
    },
    {
      "cell_type": "code",
      "execution_count": null,
      "metadata": {
        "colab": {
          "base_uri": "https://localhost:8080/",
          "height": 35
        },
        "id": "DbxnSSKhucsy",
        "outputId": "8ccf28b0-1062-4726-f3bf-dcf0bfab0ca5"
      },
      "outputs": [
        {
          "data": {
            "text/plain": [
              "True"
            ]
          },
          "execution_count": 40,
          "metadata": {
            "tags": []
          },
          "output_type": "execute_result"
        }
      ],
      "source": [
        "# Podemos utilizar la función lower que vimos antes para resolverlo\n",
        "\"Python\".lower().startswith(\"py\")"
      ]
    },
    {
      "cell_type": "code",
      "execution_count": null,
      "metadata": {
        "colab": {
          "base_uri": "https://localhost:8080/",
          "height": 35
        },
        "id": "ncnRfh7ducs_",
        "outputId": "a3aacc6c-6f88-4be2-b37e-15dcd81196c8"
      },
      "outputs": [
        {
          "data": {
            "text/plain": [
              "True"
            ]
          },
          "execution_count": 41,
          "metadata": {
            "tags": []
          },
          "output_type": "execute_result"
        }
      ],
      "source": [
        "# También Python nos puede decir si la cadena tiene sólo caracteres alphanuméricos\n",
        "\"123algo\".isalnum()"
      ]
    },
    {
      "cell_type": "code",
      "execution_count": null,
      "metadata": {
        "colab": {
          "base_uri": "https://localhost:8080/",
          "height": 35
        },
        "id": "tjgBGDwRuctF",
        "outputId": "d42e5921-078c-4d21-fce2-ebf03a9ee5ec"
      },
      "outputs": [
        {
          "data": {
            "text/plain": [
              "False"
            ]
          },
          "execution_count": 43,
          "metadata": {
            "tags": []
          },
          "output_type": "execute_result"
        }
      ],
      "source": [
        "# Da falso si no hay algo que no sea letra o número\n",
        "\"123!!\".isalnum()"
      ]
    },
    {
      "cell_type": "code",
      "execution_count": null,
      "metadata": {
        "colab": {
          "base_uri": "https://localhost:8080/",
          "height": 35
        },
        "id": "VD_bo4bCuctO",
        "outputId": "80c5f2ac-61d8-4090-abfa-ef7621545bfe"
      },
      "outputs": [
        {
          "data": {
            "text/plain": [
              "True"
            ]
          },
          "execution_count": 46,
          "metadata": {
            "tags": []
          },
          "output_type": "execute_result"
        }
      ],
      "source": [
        "# También nos puede decir si la cadena solo tiene números \n",
        "\"123\".isdigit()"
      ]
    },
    {
      "cell_type": "markdown",
      "metadata": {
        "id": "MQAuLSnSuctS"
      },
      "source": [
        "# Indexación \n",
        "Las cadenas se pueden indexar utilizando corchetes como en los elementos iterables. En realidad,una cadena de texto es un elemento iterable..."
      ]
    },
    {
      "cell_type": "code",
      "execution_count": null,
      "metadata": {
        "colab": {
          "base_uri": "https://localhost:8080/",
          "height": 35
        },
        "id": "Zw96WS3SuctS",
        "outputId": "2d1cd716-07b7-4274-a38b-f6053515d0c9"
      },
      "outputs": [
        {
          "name": "stdout",
          "output_type": "stream",
          "text": [
            "12345\n"
          ]
        }
      ],
      "source": [
        "s = \"123456789\"\n",
        "print(s[0:5])"
      ]
    },
    {
      "cell_type": "code",
      "execution_count": null,
      "metadata": {
        "colab": {
          "base_uri": "https://localhost:8080/",
          "height": 35
        },
        "id": "6eRu9VPTuctV",
        "outputId": "de852a4e-56e0-4dc3-bf20-f4779b8b7348"
      },
      "outputs": [
        {
          "name": "stdout",
          "output_type": "stream",
          "text": [
            "80989\n"
          ]
        }
      ],
      "source": [
        "s=\"8980989089809898\"\n",
        "print(s[-6:-1])"
      ]
    },
    {
      "cell_type": "markdown",
      "metadata": {
        "id": "GsMn90fiRQgM"
      },
      "source": [
        "# Challenge \n",
        "\n",
        "Me ha llegado la información de unas entradas y tengo que procesarlas. El objetivo es estructurar los datos en una tabla, pero la información llegó con varios problemas... Me podrías ayudar a limpiar y estructurar el mensaje?\n",
        "Las instrucciones de cómo hacerlo están en el mismo mensaje :)"
      ]
    },
    {
      "cell_type": "markdown",
      "metadata": {},
      "source": [
        "* Esta es una línea de comentario y no sirve para nada \n",
        "* La estructura de la información relevante es: \n",
        "* primeros 5 digitos : id del cliente\n",
        "* los siguientes 3 digitos: id del canal \n",
        "* los siguientes 5 digitos: id del evento\n",
        "* Una cantidad variable de caracteres inútiles \n",
        "* El caracter \"-\" marca el inicio y final del precio de venta. \n",
        "* Necesitamos una tabla que estructure la información descrita anteriormente"
      ]
    },
    {
      "cell_type": "code",
      "execution_count": 180,
      "metadata": {
        "id": "keZdS9GdRJ9j"
      },
      "outputs": [],
      "source": [
        "\n",
        "mensaje = \"\"\"\n",
        "* Esta es una línea de comentario y no sirve para nada \n",
        "* La estructura de la información relevante es: \n",
        "* primeros 5 digitos : id del cliente\n",
        "* los siguientes 3 digitos: id del canal \n",
        "* los siguientes 5 digitos: id del evento\n",
        "* Una cantidad variable de caracteres inútiles \n",
        "* El caracter \"-\" marca el inicio y final del precio de venta. \n",
        "* Necesitamos una tabla que estructure la información descrita anteriormente \n",
        "Patricio Fernadez, 0123400111111jkljlkjhjkhjkhjkhjkh-25.6-ergfgfggfhgfhgfh\n",
        "Borja Mon de York, 0123500111111jklfgfglkjhjkhjkhjkhjkh-25.6-rtytry\n",
        "Patricio Fernandez, 0123400111111jkljassaslkjhjkhjkhjkhjkh-55.3-tyt\n",
        "Bruce Wayne, 0123400111111jkljlkjhjkhjkhjkhjkh-75.6-asfdsf\n",
        "Micheal Jordan, 0123600111111jkljlkjhjkhjkhjkhjkh-125.6-fdgdghrtt\n",
        "Patricio Fernandez, 0123600211111jkljlkjhjkhjkhjkhjkh-28.6-ererggfdv\n",
        "\n",
        "Elidolo DelEcuador, 0123400111111jkljlkjhjkhjkrrrhjkhjkh-25.6-dsgfdgrd\n",
        "* Esto es una trampa!\n",
        "Peter Parker, 0123900511111jkljlkjhjkhjkhjkhjkh-75.2-fgbfb\n",
        "Ignacio Gonzalez, 0123400111111jkljlkjhjkhjkhjkhjkh-25.6-dgergetg\n",
        "\n",
        "Clark Kent, 0122200111111jkljlkgfghfhjhjkhjkhjkhjkh-15.8-sdfgfdgdg\n",
        "Bruce Wayne, 0123900111111jkljlkrrrrjhjkhjkhjkhjkh-35.2-gregregr\n",
        "Pepe Fulano, 0123400111111jkljlkjhjkhjkhjkhjkh-25.6-wrgrgreg\"\"\"\n",
        "\n"
      ]
    },
    {
      "cell_type": "code",
      "execution_count": 181,
      "metadata": {},
      "outputs": [
        {
          "data": {
            "text/plain": [
              "'* los siguientes 5 digitos: id del evento'"
            ]
          },
          "execution_count": 181,
          "metadata": {},
          "output_type": "execute_result"
        }
      ],
      "source": [
        "mensaje = mensaje.splitlines()\n",
        "mensaje[5]"
      ]
    },
    {
      "cell_type": "code",
      "execution_count": 182,
      "metadata": {},
      "outputs": [
        {
          "data": {
            "text/plain": [
              "[['Patricio Fernadez', ' 01234', '001', '11111', '25.6'],\n",
              " ['Borja Mon de York', ' 01235', '001', '11111', '25.6'],\n",
              " ['Patricio Fernandez', ' 01234', '001', '11111', '55.3'],\n",
              " ['Bruce Wayne', ' 01234', '001', '11111', '75.6'],\n",
              " ['Micheal Jordan', ' 01236', '001', '11111', '125.6'],\n",
              " ['Patricio Fernandez', ' 01236', '002', '11111', '28.6'],\n",
              " ['Elidolo DelEcuador', ' 01234', '001', '11111', '25.6'],\n",
              " ['Peter Parker', ' 01239', '005', '11111', '75.2'],\n",
              " ['Ignacio Gonzalez', ' 01234', '001', '11111', '25.6'],\n",
              " ['Clark Kent', ' 01222', '001', '11111', '15.8'],\n",
              " ['Bruce Wayne', ' 01239', '001', '11111', '35.2'],\n",
              " ['Pepe Fulano', ' 01234', '001', '11111', '25.6']]"
            ]
          },
          "execution_count": 182,
          "metadata": {},
          "output_type": "execute_result"
        }
      ],
      "source": [
        "texto =[]\n",
        "for i in mensaje :\n",
        "    if i.startswith('*') == False and i !=\"\":\n",
        "        j=i.split(\",\")\n",
        "        nombre=j[0]\n",
        "        id=j[1][0:6]\n",
        "        canal=j[1][6:9]\n",
        "        evento=j[1][9:14]\n",
        "        valor =j[1].split(\"-\")[1]\n",
        "        texto.append([nombre,id,canal,evento,valor])\n",
        "\n",
        "texto"
      ]
    },
    {
      "cell_type": "code",
      "execution_count": 183,
      "metadata": {},
      "outputs": [],
      "source": [
        "import pandas as pd"
      ]
    },
    {
      "cell_type": "code",
      "execution_count": 184,
      "metadata": {},
      "outputs": [
        {
          "data": {
            "text/html": [
              "<div>\n",
              "<style scoped>\n",
              "    .dataframe tbody tr th:only-of-type {\n",
              "        vertical-align: middle;\n",
              "    }\n",
              "\n",
              "    .dataframe tbody tr th {\n",
              "        vertical-align: top;\n",
              "    }\n",
              "\n",
              "    .dataframe thead th {\n",
              "        text-align: right;\n",
              "    }\n",
              "</style>\n",
              "<table border=\"1\" class=\"dataframe\">\n",
              "  <thead>\n",
              "    <tr style=\"text-align: right;\">\n",
              "      <th></th>\n",
              "      <th>nombre</th>\n",
              "      <th>id</th>\n",
              "      <th>canal</th>\n",
              "      <th>evento</th>\n",
              "      <th>valor</th>\n",
              "    </tr>\n",
              "  </thead>\n",
              "  <tbody>\n",
              "    <tr>\n",
              "      <th>0</th>\n",
              "      <td>Patricio Fernadez</td>\n",
              "      <td>01234</td>\n",
              "      <td>001</td>\n",
              "      <td>11111</td>\n",
              "      <td>25.6</td>\n",
              "    </tr>\n",
              "    <tr>\n",
              "      <th>1</th>\n",
              "      <td>Borja Mon de York</td>\n",
              "      <td>01235</td>\n",
              "      <td>001</td>\n",
              "      <td>11111</td>\n",
              "      <td>25.6</td>\n",
              "    </tr>\n",
              "    <tr>\n",
              "      <th>2</th>\n",
              "      <td>Patricio Fernandez</td>\n",
              "      <td>01234</td>\n",
              "      <td>001</td>\n",
              "      <td>11111</td>\n",
              "      <td>55.3</td>\n",
              "    </tr>\n",
              "    <tr>\n",
              "      <th>3</th>\n",
              "      <td>Bruce Wayne</td>\n",
              "      <td>01234</td>\n",
              "      <td>001</td>\n",
              "      <td>11111</td>\n",
              "      <td>75.6</td>\n",
              "    </tr>\n",
              "    <tr>\n",
              "      <th>4</th>\n",
              "      <td>Micheal Jordan</td>\n",
              "      <td>01236</td>\n",
              "      <td>001</td>\n",
              "      <td>11111</td>\n",
              "      <td>125.6</td>\n",
              "    </tr>\n",
              "    <tr>\n",
              "      <th>5</th>\n",
              "      <td>Patricio Fernandez</td>\n",
              "      <td>01236</td>\n",
              "      <td>002</td>\n",
              "      <td>11111</td>\n",
              "      <td>28.6</td>\n",
              "    </tr>\n",
              "    <tr>\n",
              "      <th>6</th>\n",
              "      <td>Elidolo DelEcuador</td>\n",
              "      <td>01234</td>\n",
              "      <td>001</td>\n",
              "      <td>11111</td>\n",
              "      <td>25.6</td>\n",
              "    </tr>\n",
              "    <tr>\n",
              "      <th>7</th>\n",
              "      <td>Peter Parker</td>\n",
              "      <td>01239</td>\n",
              "      <td>005</td>\n",
              "      <td>11111</td>\n",
              "      <td>75.2</td>\n",
              "    </tr>\n",
              "    <tr>\n",
              "      <th>8</th>\n",
              "      <td>Ignacio Gonzalez</td>\n",
              "      <td>01234</td>\n",
              "      <td>001</td>\n",
              "      <td>11111</td>\n",
              "      <td>25.6</td>\n",
              "    </tr>\n",
              "    <tr>\n",
              "      <th>9</th>\n",
              "      <td>Clark Kent</td>\n",
              "      <td>01222</td>\n",
              "      <td>001</td>\n",
              "      <td>11111</td>\n",
              "      <td>15.8</td>\n",
              "    </tr>\n",
              "    <tr>\n",
              "      <th>10</th>\n",
              "      <td>Bruce Wayne</td>\n",
              "      <td>01239</td>\n",
              "      <td>001</td>\n",
              "      <td>11111</td>\n",
              "      <td>35.2</td>\n",
              "    </tr>\n",
              "    <tr>\n",
              "      <th>11</th>\n",
              "      <td>Pepe Fulano</td>\n",
              "      <td>01234</td>\n",
              "      <td>001</td>\n",
              "      <td>11111</td>\n",
              "      <td>25.6</td>\n",
              "    </tr>\n",
              "  </tbody>\n",
              "</table>\n",
              "</div>"
            ],
            "text/plain": [
              "                nombre      id canal evento  valor\n",
              "0    Patricio Fernadez   01234   001  11111   25.6\n",
              "1    Borja Mon de York   01235   001  11111   25.6\n",
              "2   Patricio Fernandez   01234   001  11111   55.3\n",
              "3          Bruce Wayne   01234   001  11111   75.6\n",
              "4       Micheal Jordan   01236   001  11111  125.6\n",
              "5   Patricio Fernandez   01236   002  11111   28.6\n",
              "6   Elidolo DelEcuador   01234   001  11111   25.6\n",
              "7         Peter Parker   01239   005  11111   75.2\n",
              "8     Ignacio Gonzalez   01234   001  11111   25.6\n",
              "9           Clark Kent   01222   001  11111   15.8\n",
              "10         Bruce Wayne   01239   001  11111   35.2\n",
              "11         Pepe Fulano   01234   001  11111   25.6"
            ]
          },
          "execution_count": 184,
          "metadata": {},
          "output_type": "execute_result"
        }
      ],
      "source": [
        "df_listado= pd.DataFrame(texto, columns=['nombre','id','canal','evento','valor'])\n",
        "df_listado"
      ]
    },
    {
      "cell_type": "code",
      "execution_count": 185,
      "metadata": {},
      "outputs": [
        {
          "data": {
            "text/html": [
              "<div>\n",
              "<style scoped>\n",
              "    .dataframe tbody tr th:only-of-type {\n",
              "        vertical-align: middle;\n",
              "    }\n",
              "\n",
              "    .dataframe tbody tr th {\n",
              "        vertical-align: top;\n",
              "    }\n",
              "\n",
              "    .dataframe thead th {\n",
              "        text-align: right;\n",
              "    }\n",
              "</style>\n",
              "<table border=\"1\" class=\"dataframe\">\n",
              "  <thead>\n",
              "    <tr style=\"text-align: right;\">\n",
              "      <th></th>\n",
              "      <th>id</th>\n",
              "      <th>nombre</th>\n",
              "      <th>canal</th>\n",
              "      <th>evento</th>\n",
              "      <th>valor</th>\n",
              "    </tr>\n",
              "  </thead>\n",
              "  <tbody>\n",
              "    <tr>\n",
              "      <th>0</th>\n",
              "      <td>01234</td>\n",
              "      <td>Patricio Fernadez</td>\n",
              "      <td>001</td>\n",
              "      <td>11111</td>\n",
              "      <td>25.6</td>\n",
              "    </tr>\n",
              "    <tr>\n",
              "      <th>1</th>\n",
              "      <td>01235</td>\n",
              "      <td>Borja Mon de York</td>\n",
              "      <td>001</td>\n",
              "      <td>11111</td>\n",
              "      <td>25.6</td>\n",
              "    </tr>\n",
              "    <tr>\n",
              "      <th>2</th>\n",
              "      <td>01234</td>\n",
              "      <td>Patricio Fernandez</td>\n",
              "      <td>001</td>\n",
              "      <td>11111</td>\n",
              "      <td>55.3</td>\n",
              "    </tr>\n",
              "    <tr>\n",
              "      <th>3</th>\n",
              "      <td>01234</td>\n",
              "      <td>Bruce Wayne</td>\n",
              "      <td>001</td>\n",
              "      <td>11111</td>\n",
              "      <td>75.6</td>\n",
              "    </tr>\n",
              "    <tr>\n",
              "      <th>4</th>\n",
              "      <td>01236</td>\n",
              "      <td>Micheal Jordan</td>\n",
              "      <td>001</td>\n",
              "      <td>11111</td>\n",
              "      <td>125.6</td>\n",
              "    </tr>\n",
              "    <tr>\n",
              "      <th>5</th>\n",
              "      <td>01236</td>\n",
              "      <td>Patricio Fernandez</td>\n",
              "      <td>002</td>\n",
              "      <td>11111</td>\n",
              "      <td>28.6</td>\n",
              "    </tr>\n",
              "    <tr>\n",
              "      <th>6</th>\n",
              "      <td>01234</td>\n",
              "      <td>Elidolo DelEcuador</td>\n",
              "      <td>001</td>\n",
              "      <td>11111</td>\n",
              "      <td>25.6</td>\n",
              "    </tr>\n",
              "    <tr>\n",
              "      <th>7</th>\n",
              "      <td>01239</td>\n",
              "      <td>Peter Parker</td>\n",
              "      <td>005</td>\n",
              "      <td>11111</td>\n",
              "      <td>75.2</td>\n",
              "    </tr>\n",
              "    <tr>\n",
              "      <th>8</th>\n",
              "      <td>01234</td>\n",
              "      <td>Ignacio Gonzalez</td>\n",
              "      <td>001</td>\n",
              "      <td>11111</td>\n",
              "      <td>25.6</td>\n",
              "    </tr>\n",
              "    <tr>\n",
              "      <th>9</th>\n",
              "      <td>01222</td>\n",
              "      <td>Clark Kent</td>\n",
              "      <td>001</td>\n",
              "      <td>11111</td>\n",
              "      <td>15.8</td>\n",
              "    </tr>\n",
              "    <tr>\n",
              "      <th>10</th>\n",
              "      <td>01239</td>\n",
              "      <td>Bruce Wayne</td>\n",
              "      <td>001</td>\n",
              "      <td>11111</td>\n",
              "      <td>35.2</td>\n",
              "    </tr>\n",
              "    <tr>\n",
              "      <th>11</th>\n",
              "      <td>01234</td>\n",
              "      <td>Pepe Fulano</td>\n",
              "      <td>001</td>\n",
              "      <td>11111</td>\n",
              "      <td>25.6</td>\n",
              "    </tr>\n",
              "  </tbody>\n",
              "</table>\n",
              "</div>"
            ],
            "text/plain": [
              "        id              nombre canal evento  valor\n",
              "0    01234   Patricio Fernadez   001  11111   25.6\n",
              "1    01235   Borja Mon de York   001  11111   25.6\n",
              "2    01234  Patricio Fernandez   001  11111   55.3\n",
              "3    01234         Bruce Wayne   001  11111   75.6\n",
              "4    01236      Micheal Jordan   001  11111  125.6\n",
              "5    01236  Patricio Fernandez   002  11111   28.6\n",
              "6    01234  Elidolo DelEcuador   001  11111   25.6\n",
              "7    01239        Peter Parker   005  11111   75.2\n",
              "8    01234    Ignacio Gonzalez   001  11111   25.6\n",
              "9    01222          Clark Kent   001  11111   15.8\n",
              "10   01239         Bruce Wayne   001  11111   35.2\n",
              "11   01234         Pepe Fulano   001  11111   25.6"
            ]
          },
          "execution_count": 185,
          "metadata": {},
          "output_type": "execute_result"
        }
      ],
      "source": [
        "df_listado = df_listado[['id','nombre','canal','evento','valor']]\n",
        "df_listado"
      ]
    },
    {
      "cell_type": "code",
      "execution_count": 186,
      "metadata": {},
      "outputs": [
        {
          "name": "stdout",
          "output_type": "stream",
          "text": [
            "<class 'pandas.core.frame.DataFrame'>\n",
            "RangeIndex: 12 entries, 0 to 11\n",
            "Data columns (total 5 columns):\n",
            " #   Column  Non-Null Count  Dtype \n",
            "---  ------  --------------  ----- \n",
            " 0   id      12 non-null     object\n",
            " 1   nombre  12 non-null     object\n",
            " 2   canal   12 non-null     object\n",
            " 3   evento  12 non-null     object\n",
            " 4   valor   12 non-null     object\n",
            "dtypes: object(5)\n",
            "memory usage: 608.0+ bytes\n"
          ]
        }
      ],
      "source": [
        "df_listado.info()"
      ]
    },
    {
      "cell_type": "code",
      "execution_count": 187,
      "metadata": {},
      "outputs": [
        {
          "name": "stdout",
          "output_type": "stream",
          "text": [
            "<class 'pandas.core.frame.DataFrame'>\n",
            "RangeIndex: 12 entries, 0 to 11\n",
            "Data columns (total 5 columns):\n",
            " #   Column  Non-Null Count  Dtype \n",
            "---  ------  --------------  ----- \n",
            " 0   id      12 non-null     object\n",
            " 1   nombre  12 non-null     object\n",
            " 2   canal   12 non-null     object\n",
            " 3   evento  12 non-null     object\n",
            " 4   valor   12 non-null     object\n",
            "dtypes: object(5)\n",
            "memory usage: 608.0+ bytes\n"
          ]
        }
      ],
      "source": [
        "df_listado.info()"
      ]
    },
    {
      "cell_type": "code",
      "execution_count": 190,
      "metadata": {},
      "outputs": [
        {
          "data": {
            "text/html": [
              "<div>\n",
              "<style scoped>\n",
              "    .dataframe tbody tr th:only-of-type {\n",
              "        vertical-align: middle;\n",
              "    }\n",
              "\n",
              "    .dataframe tbody tr th {\n",
              "        vertical-align: top;\n",
              "    }\n",
              "\n",
              "    .dataframe thead th {\n",
              "        text-align: right;\n",
              "    }\n",
              "</style>\n",
              "<table border=\"1\" class=\"dataframe\">\n",
              "  <thead>\n",
              "    <tr style=\"text-align: right;\">\n",
              "      <th></th>\n",
              "      <th>id</th>\n",
              "      <th>nombre</th>\n",
              "      <th>canal</th>\n",
              "      <th>evento</th>\n",
              "      <th>valor</th>\n",
              "    </tr>\n",
              "  </thead>\n",
              "  <tbody>\n",
              "    <tr>\n",
              "      <th>0</th>\n",
              "      <td>01234</td>\n",
              "      <td>Patricio Fernadez</td>\n",
              "      <td>001</td>\n",
              "      <td>11111</td>\n",
              "      <td>25.6</td>\n",
              "    </tr>\n",
              "    <tr>\n",
              "      <th>1</th>\n",
              "      <td>01235</td>\n",
              "      <td>Borja Mon de York</td>\n",
              "      <td>001</td>\n",
              "      <td>11111</td>\n",
              "      <td>25.6</td>\n",
              "    </tr>\n",
              "    <tr>\n",
              "      <th>2</th>\n",
              "      <td>01234</td>\n",
              "      <td>Patricio Fernandez</td>\n",
              "      <td>001</td>\n",
              "      <td>11111</td>\n",
              "      <td>55.3</td>\n",
              "    </tr>\n",
              "    <tr>\n",
              "      <th>3</th>\n",
              "      <td>01234</td>\n",
              "      <td>Bruce Wayne</td>\n",
              "      <td>001</td>\n",
              "      <td>11111</td>\n",
              "      <td>75.6</td>\n",
              "    </tr>\n",
              "    <tr>\n",
              "      <th>4</th>\n",
              "      <td>01236</td>\n",
              "      <td>Micheal Jordan</td>\n",
              "      <td>001</td>\n",
              "      <td>11111</td>\n",
              "      <td>125.6</td>\n",
              "    </tr>\n",
              "    <tr>\n",
              "      <th>5</th>\n",
              "      <td>01236</td>\n",
              "      <td>Patricio Fernandez</td>\n",
              "      <td>002</td>\n",
              "      <td>11111</td>\n",
              "      <td>28.6</td>\n",
              "    </tr>\n",
              "    <tr>\n",
              "      <th>6</th>\n",
              "      <td>01234</td>\n",
              "      <td>Elidolo DelEcuador</td>\n",
              "      <td>001</td>\n",
              "      <td>11111</td>\n",
              "      <td>25.6</td>\n",
              "    </tr>\n",
              "    <tr>\n",
              "      <th>7</th>\n",
              "      <td>01239</td>\n",
              "      <td>Peter Parker</td>\n",
              "      <td>005</td>\n",
              "      <td>11111</td>\n",
              "      <td>75.2</td>\n",
              "    </tr>\n",
              "    <tr>\n",
              "      <th>8</th>\n",
              "      <td>01234</td>\n",
              "      <td>Ignacio Gonzalez</td>\n",
              "      <td>001</td>\n",
              "      <td>11111</td>\n",
              "      <td>25.6</td>\n",
              "    </tr>\n",
              "    <tr>\n",
              "      <th>9</th>\n",
              "      <td>01222</td>\n",
              "      <td>Clark Kent</td>\n",
              "      <td>001</td>\n",
              "      <td>11111</td>\n",
              "      <td>15.8</td>\n",
              "    </tr>\n",
              "    <tr>\n",
              "      <th>10</th>\n",
              "      <td>01239</td>\n",
              "      <td>Bruce Wayne</td>\n",
              "      <td>001</td>\n",
              "      <td>11111</td>\n",
              "      <td>35.2</td>\n",
              "    </tr>\n",
              "    <tr>\n",
              "      <th>11</th>\n",
              "      <td>01234</td>\n",
              "      <td>Pepe Fulano</td>\n",
              "      <td>001</td>\n",
              "      <td>11111</td>\n",
              "      <td>25.6</td>\n",
              "    </tr>\n",
              "  </tbody>\n",
              "</table>\n",
              "</div>"
            ],
            "text/plain": [
              "        id              nombre canal evento  valor\n",
              "0    01234   Patricio Fernadez   001  11111   25.6\n",
              "1    01235   Borja Mon de York   001  11111   25.6\n",
              "2    01234  Patricio Fernandez   001  11111   55.3\n",
              "3    01234         Bruce Wayne   001  11111   75.6\n",
              "4    01236      Micheal Jordan   001  11111  125.6\n",
              "5    01236  Patricio Fernandez   002  11111   28.6\n",
              "6    01234  Elidolo DelEcuador   001  11111   25.6\n",
              "7    01239        Peter Parker   005  11111   75.2\n",
              "8    01234    Ignacio Gonzalez   001  11111   25.6\n",
              "9    01222          Clark Kent   001  11111   15.8\n",
              "10   01239         Bruce Wayne   001  11111   35.2\n",
              "11   01234         Pepe Fulano   001  11111   25.6"
            ]
          },
          "execution_count": 190,
          "metadata": {},
          "output_type": "execute_result"
        }
      ],
      "source": [
        "df_listado "
      ]
    },
    {
      "cell_type": "code",
      "execution_count": 191,
      "metadata": {},
      "outputs": [
        {
          "data": {
            "text/html": [
              "<div>\n",
              "<style scoped>\n",
              "    .dataframe tbody tr th:only-of-type {\n",
              "        vertical-align: middle;\n",
              "    }\n",
              "\n",
              "    .dataframe tbody tr th {\n",
              "        vertical-align: top;\n",
              "    }\n",
              "\n",
              "    .dataframe thead th {\n",
              "        text-align: right;\n",
              "    }\n",
              "</style>\n",
              "<table border=\"1\" class=\"dataframe\">\n",
              "  <thead>\n",
              "    <tr style=\"text-align: right;\">\n",
              "      <th></th>\n",
              "      <th>id</th>\n",
              "      <th>nombre</th>\n",
              "      <th>canal</th>\n",
              "      <th>evento</th>\n",
              "      <th>valor</th>\n",
              "    </tr>\n",
              "  </thead>\n",
              "  <tbody>\n",
              "    <tr>\n",
              "      <th>0</th>\n",
              "      <td>01234</td>\n",
              "      <td>Patricio Fernadez</td>\n",
              "      <td>001</td>\n",
              "      <td>11111</td>\n",
              "      <td>25.6</td>\n",
              "    </tr>\n",
              "    <tr>\n",
              "      <th>2</th>\n",
              "      <td>01234</td>\n",
              "      <td>Patricio Fernandez</td>\n",
              "      <td>001</td>\n",
              "      <td>11111</td>\n",
              "      <td>55.3</td>\n",
              "    </tr>\n",
              "    <tr>\n",
              "      <th>3</th>\n",
              "      <td>01234</td>\n",
              "      <td>Bruce Wayne</td>\n",
              "      <td>001</td>\n",
              "      <td>11111</td>\n",
              "      <td>75.6</td>\n",
              "    </tr>\n",
              "    <tr>\n",
              "      <th>6</th>\n",
              "      <td>01234</td>\n",
              "      <td>Elidolo DelEcuador</td>\n",
              "      <td>001</td>\n",
              "      <td>11111</td>\n",
              "      <td>25.6</td>\n",
              "    </tr>\n",
              "    <tr>\n",
              "      <th>8</th>\n",
              "      <td>01234</td>\n",
              "      <td>Ignacio Gonzalez</td>\n",
              "      <td>001</td>\n",
              "      <td>11111</td>\n",
              "      <td>25.6</td>\n",
              "    </tr>\n",
              "    <tr>\n",
              "      <th>11</th>\n",
              "      <td>01234</td>\n",
              "      <td>Pepe Fulano</td>\n",
              "      <td>001</td>\n",
              "      <td>11111</td>\n",
              "      <td>25.6</td>\n",
              "    </tr>\n",
              "  </tbody>\n",
              "</table>\n",
              "</div>"
            ],
            "text/plain": [
              "        id              nombre canal evento valor\n",
              "0    01234   Patricio Fernadez   001  11111  25.6\n",
              "2    01234  Patricio Fernandez   001  11111  55.3\n",
              "3    01234         Bruce Wayne   001  11111  75.6\n",
              "6    01234  Elidolo DelEcuador   001  11111  25.6\n",
              "8    01234    Ignacio Gonzalez   001  11111  25.6\n",
              "11   01234         Pepe Fulano   001  11111  25.6"
            ]
          },
          "execution_count": 191,
          "metadata": {},
          "output_type": "execute_result"
        }
      ],
      "source": [
        "df_listado[df_listado['id'] == \" 01234\"]"
      ]
    },
    {
      "cell_type": "code",
      "execution_count": 192,
      "metadata": {},
      "outputs": [
        {
          "data": {
            "text/plain": [
              "Patricio Fernadez     1\n",
              "Patricio Fernandez    1\n",
              "Bruce Wayne           1\n",
              "Elidolo DelEcuador    1\n",
              "Ignacio Gonzalez      1\n",
              "Pepe Fulano           1\n",
              "Name: nombre, dtype: int64"
            ]
          },
          "execution_count": 192,
          "metadata": {},
          "output_type": "execute_result"
        }
      ],
      "source": [
        "df_listado[df_listado['id'] == ' 01234']['nombre'].value_counts()"
      ]
    },
    {
      "cell_type": "code",
      "execution_count": 193,
      "metadata": {},
      "outputs": [
        {
          "data": {
            "text/plain": [
              "'Patricio Fernadez'"
            ]
          },
          "execution_count": 193,
          "metadata": {},
          "output_type": "execute_result"
        }
      ],
      "source": [
        "df_listado[df_listado['id'] == ' 01234']['nombre'].value_counts().idxmax()"
      ]
    },
    {
      "cell_type": "code",
      "execution_count": 194,
      "metadata": {},
      "outputs": [
        {
          "data": {
            "text/html": [
              "<div>\n",
              "<style scoped>\n",
              "    .dataframe tbody tr th:only-of-type {\n",
              "        vertical-align: middle;\n",
              "    }\n",
              "\n",
              "    .dataframe tbody tr th {\n",
              "        vertical-align: top;\n",
              "    }\n",
              "\n",
              "    .dataframe thead th {\n",
              "        text-align: right;\n",
              "    }\n",
              "</style>\n",
              "<table border=\"1\" class=\"dataframe\">\n",
              "  <thead>\n",
              "    <tr style=\"text-align: right;\">\n",
              "      <th></th>\n",
              "      <th>id</th>\n",
              "      <th>nombre</th>\n",
              "      <th>canal</th>\n",
              "      <th>evento</th>\n",
              "      <th>valor</th>\n",
              "    </tr>\n",
              "  </thead>\n",
              "  <tbody>\n",
              "    <tr>\n",
              "      <th>0</th>\n",
              "      <td>01234</td>\n",
              "      <td>Patricio Fernandez</td>\n",
              "      <td>001</td>\n",
              "      <td>11111</td>\n",
              "      <td>25.6</td>\n",
              "    </tr>\n",
              "    <tr>\n",
              "      <th>1</th>\n",
              "      <td>01235</td>\n",
              "      <td>Borja Mon de York</td>\n",
              "      <td>001</td>\n",
              "      <td>11111</td>\n",
              "      <td>25.6</td>\n",
              "    </tr>\n",
              "    <tr>\n",
              "      <th>2</th>\n",
              "      <td>01234</td>\n",
              "      <td>Patricio Fernandez</td>\n",
              "      <td>001</td>\n",
              "      <td>11111</td>\n",
              "      <td>55.3</td>\n",
              "    </tr>\n",
              "    <tr>\n",
              "      <th>3</th>\n",
              "      <td>01234</td>\n",
              "      <td>Patricio Fernandez</td>\n",
              "      <td>001</td>\n",
              "      <td>11111</td>\n",
              "      <td>75.6</td>\n",
              "    </tr>\n",
              "    <tr>\n",
              "      <th>4</th>\n",
              "      <td>01236</td>\n",
              "      <td>Micheal Jordan</td>\n",
              "      <td>001</td>\n",
              "      <td>11111</td>\n",
              "      <td>125.6</td>\n",
              "    </tr>\n",
              "    <tr>\n",
              "      <th>5</th>\n",
              "      <td>01236</td>\n",
              "      <td>Patricio Fernandez</td>\n",
              "      <td>002</td>\n",
              "      <td>11111</td>\n",
              "      <td>28.6</td>\n",
              "    </tr>\n",
              "    <tr>\n",
              "      <th>6</th>\n",
              "      <td>01234</td>\n",
              "      <td>Patricio Fernandez</td>\n",
              "      <td>001</td>\n",
              "      <td>11111</td>\n",
              "      <td>25.6</td>\n",
              "    </tr>\n",
              "    <tr>\n",
              "      <th>7</th>\n",
              "      <td>01239</td>\n",
              "      <td>Peter Parker</td>\n",
              "      <td>005</td>\n",
              "      <td>11111</td>\n",
              "      <td>75.2</td>\n",
              "    </tr>\n",
              "    <tr>\n",
              "      <th>8</th>\n",
              "      <td>01234</td>\n",
              "      <td>Patricio Fernandez</td>\n",
              "      <td>001</td>\n",
              "      <td>11111</td>\n",
              "      <td>25.6</td>\n",
              "    </tr>\n",
              "    <tr>\n",
              "      <th>9</th>\n",
              "      <td>01222</td>\n",
              "      <td>Clark Kent</td>\n",
              "      <td>001</td>\n",
              "      <td>11111</td>\n",
              "      <td>15.8</td>\n",
              "    </tr>\n",
              "    <tr>\n",
              "      <th>10</th>\n",
              "      <td>01239</td>\n",
              "      <td>Bruce Wayne</td>\n",
              "      <td>001</td>\n",
              "      <td>11111</td>\n",
              "      <td>35.2</td>\n",
              "    </tr>\n",
              "    <tr>\n",
              "      <th>11</th>\n",
              "      <td>01234</td>\n",
              "      <td>Patricio Fernandez</td>\n",
              "      <td>001</td>\n",
              "      <td>11111</td>\n",
              "      <td>25.6</td>\n",
              "    </tr>\n",
              "  </tbody>\n",
              "</table>\n",
              "</div>"
            ],
            "text/plain": [
              "        id              nombre canal evento  valor\n",
              "0    01234  Patricio Fernandez   001  11111   25.6\n",
              "1    01235   Borja Mon de York   001  11111   25.6\n",
              "2    01234  Patricio Fernandez   001  11111   55.3\n",
              "3    01234  Patricio Fernandez   001  11111   75.6\n",
              "4    01236      Micheal Jordan   001  11111  125.6\n",
              "5    01236  Patricio Fernandez   002  11111   28.6\n",
              "6    01234  Patricio Fernandez   001  11111   25.6\n",
              "7    01239        Peter Parker   005  11111   75.2\n",
              "8    01234  Patricio Fernandez   001  11111   25.6\n",
              "9    01222          Clark Kent   001  11111   15.8\n",
              "10   01239         Bruce Wayne   001  11111   35.2\n",
              "11   01234  Patricio Fernandez   001  11111   25.6"
            ]
          },
          "execution_count": 194,
          "metadata": {},
          "output_type": "execute_result"
        }
      ],
      "source": [
        "df_listado.loc[df_listado['id'] == ' 01234','nombre'] = 'Patricio Fernandez'\n",
        "df_listado"
      ]
    },
    {
      "cell_type": "code",
      "execution_count": 195,
      "metadata": {},
      "outputs": [
        {
          "data": {
            "text/html": [
              "<div>\n",
              "<style scoped>\n",
              "    .dataframe tbody tr th:only-of-type {\n",
              "        vertical-align: middle;\n",
              "    }\n",
              "\n",
              "    .dataframe tbody tr th {\n",
              "        vertical-align: top;\n",
              "    }\n",
              "\n",
              "    .dataframe thead th {\n",
              "        text-align: right;\n",
              "    }\n",
              "</style>\n",
              "<table border=\"1\" class=\"dataframe\">\n",
              "  <thead>\n",
              "    <tr style=\"text-align: right;\">\n",
              "      <th></th>\n",
              "      <th>id</th>\n",
              "      <th>nombre</th>\n",
              "      <th>canal</th>\n",
              "      <th>evento</th>\n",
              "      <th>valor</th>\n",
              "    </tr>\n",
              "  </thead>\n",
              "  <tbody>\n",
              "    <tr>\n",
              "      <th>0</th>\n",
              "      <td>01234</td>\n",
              "      <td>Patricio Fernandez</td>\n",
              "      <td>001</td>\n",
              "      <td>11111</td>\n",
              "      <td>25.6</td>\n",
              "    </tr>\n",
              "    <tr>\n",
              "      <th>2</th>\n",
              "      <td>01234</td>\n",
              "      <td>Patricio Fernandez</td>\n",
              "      <td>001</td>\n",
              "      <td>11111</td>\n",
              "      <td>55.3</td>\n",
              "    </tr>\n",
              "    <tr>\n",
              "      <th>3</th>\n",
              "      <td>01234</td>\n",
              "      <td>Patricio Fernandez</td>\n",
              "      <td>001</td>\n",
              "      <td>11111</td>\n",
              "      <td>75.6</td>\n",
              "    </tr>\n",
              "    <tr>\n",
              "      <th>6</th>\n",
              "      <td>01234</td>\n",
              "      <td>Patricio Fernandez</td>\n",
              "      <td>001</td>\n",
              "      <td>11111</td>\n",
              "      <td>25.6</td>\n",
              "    </tr>\n",
              "    <tr>\n",
              "      <th>8</th>\n",
              "      <td>01234</td>\n",
              "      <td>Patricio Fernandez</td>\n",
              "      <td>001</td>\n",
              "      <td>11111</td>\n",
              "      <td>25.6</td>\n",
              "    </tr>\n",
              "    <tr>\n",
              "      <th>11</th>\n",
              "      <td>01234</td>\n",
              "      <td>Patricio Fernandez</td>\n",
              "      <td>001</td>\n",
              "      <td>11111</td>\n",
              "      <td>25.6</td>\n",
              "    </tr>\n",
              "  </tbody>\n",
              "</table>\n",
              "</div>"
            ],
            "text/plain": [
              "        id              nombre canal evento valor\n",
              "0    01234  Patricio Fernandez   001  11111  25.6\n",
              "2    01234  Patricio Fernandez   001  11111  55.3\n",
              "3    01234  Patricio Fernandez   001  11111  75.6\n",
              "6    01234  Patricio Fernandez   001  11111  25.6\n",
              "8    01234  Patricio Fernandez   001  11111  25.6\n",
              "11   01234  Patricio Fernandez   001  11111  25.6"
            ]
          },
          "execution_count": 195,
          "metadata": {},
          "output_type": "execute_result"
        }
      ],
      "source": [
        "df_listado[df_listado['id'] == \" 01234\"]"
      ]
    }
  ],
  "metadata": {
    "colab": {
      "name": "FunWithStrings.ipynb",
      "provenance": []
    },
    "kernelspec": {
      "display_name": "Python 3.10.8 64-bit (microsoft store)",
      "language": "python",
      "name": "python3"
    },
    "language_info": {
      "codemirror_mode": {
        "name": "ipython",
        "version": 3
      },
      "file_extension": ".py",
      "mimetype": "text/x-python",
      "name": "python",
      "nbconvert_exporter": "python",
      "pygments_lexer": "ipython3",
      "version": "3.10.8"
    },
    "vscode": {
      "interpreter": {
        "hash": "e2d14cc57289b3610ab37d1cc01a03a5ad7a4c70d792fac798ed3edb0e603627"
      }
    }
  },
  "nbformat": 4,
  "nbformat_minor": 0
}
